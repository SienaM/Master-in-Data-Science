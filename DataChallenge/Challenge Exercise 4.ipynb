{
 "cells": [
  {
   "cell_type": "markdown",
   "metadata": {},
   "source": [
    "## Búsquedas que coinciden con reservas"
   ]
  },
  {
   "cell_type": "code",
   "execution_count": 2,
   "metadata": {
    "collapsed": false
   },
   "outputs": [
    {
     "name": "stdout",
     "output_type": "stream",
     "text": [
      "Populating the interactive namespace from numpy and matplotlib\n"
     ]
    }
   ],
   "source": [
    "import pandas as pd\n",
    "%pylab inline"
   ]
  },
  {
   "cell_type": "code",
   "execution_count": 60,
   "metadata": {
    "collapsed": false
   },
   "outputs": [],
   "source": [
    "b = pd.read_csv(\"/home/dsc/Repositories/Master-in-Data-Science/bookings.csv.bz2\",\n",
    "                sep=\"^\",\n",
    "                nrows=1e5,\n",
    "# Hora de embarque, aeropuertdo de embarque, aeropuerto de destino\n",
    "                usecols=[\"brd_time           \",\"brd_port\",\"off_port\"],\n",
    "                parse_dates=[\"brd_time           \"]\n",
    "               )"
   ]
  },
  {
   "cell_type": "code",
   "execution_count": 16,
   "metadata": {
    "collapsed": false
   },
   "outputs": [
    {
     "data": {
      "text/plain": [
       "Index([u'brd_port', u'off_port', u'brd_time           '], dtype='object')"
      ]
     },
     "execution_count": 16,
     "metadata": {},
     "output_type": "execute_result"
    }
   ],
   "source": [
    "b.columns"
   ]
  },
  {
   "cell_type": "code",
   "execution_count": 61,
   "metadata": {
    "collapsed": false
   },
   "outputs": [],
   "source": [
    "# Remombramos la columna con espacios\n",
    "b[\"date\"]=b[\"brd_time           \"]"
   ]
  },
  {
   "cell_type": "code",
   "execution_count": 62,
   "metadata": {
    "collapsed": false
   },
   "outputs": [],
   "source": [
    "b = b.drop(\"brd_time           \",axis=1)"
   ]
  },
  {
   "cell_type": "code",
   "execution_count": 71,
   "metadata": {
    "collapsed": true
   },
   "outputs": [
    {
     "data": {
      "text/plain": [
       "0       2013-03-07 08:50:00\n",
       "1       2013-04-12 13:04:00\n",
       "2       2013-07-15 07:00:00\n",
       "3       2013-04-24 23:59:00\n",
       "4       2013-05-14 20:15:00\n",
       "5       2013-04-07 10:23:00\n",
       "6       2013-04-11 11:15:00\n",
       "7       2013-04-14 11:05:00\n",
       "8       2013-04-16 15:45:00\n",
       "9       2013-04-18 08:00:00\n",
       "10      2013-04-19 22:25:00\n",
       "11      2013-04-14 11:05:00\n",
       "12      2013-04-16 15:45:00\n",
       "13      2013-04-18 08:00:00\n",
       "14      2013-04-19 22:25:00\n",
       "15      2013-04-14 11:05:00\n",
       "16      2013-04-16 15:45:00\n",
       "17      2013-04-18 08:00:00\n",
       "18      2013-04-19 22:25:00\n",
       "19      2013-04-06 13:28:00\n",
       "20      2013-05-25 07:25:00\n",
       "21      2013-05-25 08:30:00\n",
       "22      2013-03-24 20:50:00\n",
       "23      2013-08-05 12:35:00\n",
       "24      2013-08-05 12:35:00\n",
       "25      2013-08-22 10:35:00\n",
       "26      2013-03-24 19:15:00\n",
       "27      2013-03-24 19:15:00\n",
       "28      2013-03-24 20:50:00\n",
       "29      2013-03-24 19:15:00\n",
       "                ...        \n",
       "99970   2013-03-21 19:30:00\n",
       "99971   2013-03-21 19:30:00\n",
       "99972   2013-03-21 15:30:00\n",
       "99973   2013-03-21 12:35:00\n",
       "99974   2013-03-26 19:20:00\n",
       "99975   2013-03-26 19:20:00\n",
       "99976   2013-03-27 08:15:00\n",
       "99977   2013-03-29 17:20:00\n",
       "99978   2013-03-21 12:45:00\n",
       "99979   2013-04-03 08:40:00\n",
       "99980   2013-04-05 13:10:00\n",
       "99981   2013-06-05 23:40:00\n",
       "99982   2013-06-14 12:00:00\n",
       "99983   2013-06-05 23:40:00\n",
       "99984   2013-06-14 12:00:00\n",
       "99985   2013-03-12 18:30:00\n",
       "99986   2013-03-15 03:40:00\n",
       "99987   2013-04-26 09:40:00\n",
       "99988   2013-05-07 18:25:00\n",
       "99989   2013-03-23 20:57:00\n",
       "99990   2013-03-27 15:32:00\n",
       "99991   2013-03-27 15:32:00\n",
       "99992   2013-03-27 14:08:00\n",
       "99993   2013-05-01 06:05:00\n",
       "99994   2013-05-12 00:30:00\n",
       "99995   2013-05-02 05:40:00\n",
       "99996   2013-05-02 05:40:00\n",
       "99997   2013-05-10 07:40:00\n",
       "99998   2013-06-14 14:55:00\n",
       "99999   2013-06-17 17:30:00\n",
       "Name: date, dtype: datetime64[ns]"
      ]
     },
     "execution_count": 71,
     "metadata": {},
     "output_type": "execute_result"
    }
   ],
   "source": [
    "b.date"
   ]
  },
  {
   "cell_type": "code",
   "execution_count": 42,
   "metadata": {
    "collapsed": false
   },
   "outputs": [],
   "source": [
    "s = pd.read_csv(\"/home/dsc/Repositories/Master-in-Data-Science/searches.csv.bz2\",\n",
    "                sep=\"^\",\n",
    "                nrows=1e5,\n",
    "                usecols=[\"Seg1Date\",\"Origin\",\"Destination\"],\n",
    "                parse_dates=[\"Seg1Date\"]\n",
    "               )"
   ]
  },
  {
   "cell_type": "code",
   "execution_count": 73,
   "metadata": {
    "collapsed": false
   },
   "outputs": [
    {
     "data": {
      "text/html": [
       "<div>\n",
       "<table border=\"1\" class=\"dataframe\">\n",
       "  <thead>\n",
       "    <tr style=\"text-align: right;\">\n",
       "      <th></th>\n",
       "      <th>Origin</th>\n",
       "      <th>Destination</th>\n",
       "      <th>Seg1Date</th>\n",
       "    </tr>\n",
       "  </thead>\n",
       "  <tbody>\n",
       "    <tr>\n",
       "      <th>0</th>\n",
       "      <td>TXL</td>\n",
       "      <td>AUH</td>\n",
       "      <td>2013-01-26</td>\n",
       "    </tr>\n",
       "    <tr>\n",
       "      <th>1</th>\n",
       "      <td>ATH</td>\n",
       "      <td>MIL</td>\n",
       "      <td>2013-01-04</td>\n",
       "    </tr>\n",
       "    <tr>\n",
       "      <th>2</th>\n",
       "      <td>ICT</td>\n",
       "      <td>SFO</td>\n",
       "      <td>2013-08-02</td>\n",
       "    </tr>\n",
       "    <tr>\n",
       "      <th>3</th>\n",
       "      <td>RNB</td>\n",
       "      <td>ARN</td>\n",
       "      <td>2013-01-02</td>\n",
       "    </tr>\n",
       "    <tr>\n",
       "      <th>4</th>\n",
       "      <td>OSL</td>\n",
       "      <td>MAD</td>\n",
       "      <td>2013-03-22</td>\n",
       "    </tr>\n",
       "  </tbody>\n",
       "</table>\n",
       "</div>"
      ],
      "text/plain": [
       "  Origin Destination   Seg1Date\n",
       "0    TXL         AUH 2013-01-26\n",
       "1    ATH         MIL 2013-01-04\n",
       "2    ICT         SFO 2013-08-02\n",
       "3    RNB         ARN 2013-01-02\n",
       "4    OSL         MAD 2013-03-22"
      ]
     },
     "execution_count": 73,
     "metadata": {},
     "output_type": "execute_result"
    }
   ],
   "source": [
    "s.head()"
   ]
  },
  {
   "cell_type": "code",
   "execution_count": 63,
   "metadata": {
    "collapsed": false
   },
   "outputs": [],
   "source": [
    "# Cambiamos el formato de la columna date de b\n",
    "b[\"date2\"]=b.date.apply(lambda d: d.date())"
   ]
  },
  {
   "cell_type": "code",
   "execution_count": 74,
   "metadata": {
    "collapsed": false
   },
   "outputs": [],
   "source": [
    "s[\"date2\"]=s.Seg1Date.apply(lambda d: d.date())"
   ]
  },
  {
   "cell_type": "code",
   "execution_count": 77,
   "metadata": {
    "collapsed": false,
    "scrolled": true
   },
   "outputs": [],
   "source": [
    "# Left Join de ambos df para mantener todos los datos y poder comparar con el total\n",
    "join = pd.merge(\n",
    "        s,b,\n",
    "        how=\"left\",\n",
    "        left_on=[\"Origin\",\"Destination\",\"date2\"],\n",
    "        right_on=[\"brd_port\",\"off_port\",\"date2\"])"
   ]
  },
  {
   "cell_type": "code",
   "execution_count": 82,
   "metadata": {
    "collapsed": false
   },
   "outputs": [
    {
     "data": {
      "text/html": [
       "<div>\n",
       "<table border=\"1\" class=\"dataframe\">\n",
       "  <thead>\n",
       "    <tr style=\"text-align: right;\">\n",
       "      <th></th>\n",
       "      <th>Origin</th>\n",
       "      <th>Destination</th>\n",
       "      <th>Seg1Date</th>\n",
       "      <th>date2</th>\n",
       "      <th>brd_port</th>\n",
       "      <th>off_port</th>\n",
       "      <th>date</th>\n",
       "    </tr>\n",
       "  </thead>\n",
       "  <tbody>\n",
       "    <tr>\n",
       "      <th>0</th>\n",
       "      <td>TXL</td>\n",
       "      <td>AUH</td>\n",
       "      <td>2013-01-26</td>\n",
       "      <td>2013-01-26</td>\n",
       "      <td>NaN</td>\n",
       "      <td>NaN</td>\n",
       "      <td>NaT</td>\n",
       "    </tr>\n",
       "    <tr>\n",
       "      <th>1</th>\n",
       "      <td>ATH</td>\n",
       "      <td>MIL</td>\n",
       "      <td>2013-01-04</td>\n",
       "      <td>2013-01-04</td>\n",
       "      <td>NaN</td>\n",
       "      <td>NaN</td>\n",
       "      <td>NaT</td>\n",
       "    </tr>\n",
       "    <tr>\n",
       "      <th>2</th>\n",
       "      <td>ICT</td>\n",
       "      <td>SFO</td>\n",
       "      <td>2013-08-02</td>\n",
       "      <td>2013-08-02</td>\n",
       "      <td>NaN</td>\n",
       "      <td>NaN</td>\n",
       "      <td>NaT</td>\n",
       "    </tr>\n",
       "    <tr>\n",
       "      <th>3</th>\n",
       "      <td>RNB</td>\n",
       "      <td>ARN</td>\n",
       "      <td>2013-01-02</td>\n",
       "      <td>2013-01-02</td>\n",
       "      <td>NaN</td>\n",
       "      <td>NaN</td>\n",
       "      <td>NaT</td>\n",
       "    </tr>\n",
       "    <tr>\n",
       "      <th>4</th>\n",
       "      <td>OSL</td>\n",
       "      <td>MAD</td>\n",
       "      <td>2013-03-22</td>\n",
       "      <td>2013-03-22</td>\n",
       "      <td>NaN</td>\n",
       "      <td>NaN</td>\n",
       "      <td>NaT</td>\n",
       "    </tr>\n",
       "  </tbody>\n",
       "</table>\n",
       "</div>"
      ],
      "text/plain": [
       "  Origin Destination   Seg1Date       date2 brd_port off_port date\n",
       "0    TXL         AUH 2013-01-26  2013-01-26      NaN      NaN  NaT\n",
       "1    ATH         MIL 2013-01-04  2013-01-04      NaN      NaN  NaT\n",
       "2    ICT         SFO 2013-08-02  2013-08-02      NaN      NaN  NaT\n",
       "3    RNB         ARN 2013-01-02  2013-01-02      NaN      NaN  NaT\n",
       "4    OSL         MAD 2013-03-22  2013-03-22      NaN      NaN  NaT"
      ]
     },
     "execution_count": 82,
     "metadata": {},
     "output_type": "execute_result"
    }
   ],
   "source": [
    "join.head()"
   ]
  },
  {
   "cell_type": "code",
   "execution_count": 86,
   "metadata": {
    "collapsed": false
   },
   "outputs": [],
   "source": [
    "# Añadimos una columna que nos dice si cruza ambas tablas\n",
    "join[\"match\"] = join.brd_port.apply(lambda b: not pd.isnull(b))"
   ]
  },
  {
   "cell_type": "code",
   "execution_count": 87,
   "metadata": {
    "collapsed": false
   },
   "outputs": [
    {
     "data": {
      "text/html": [
       "<div>\n",
       "<table border=\"1\" class=\"dataframe\">\n",
       "  <thead>\n",
       "    <tr style=\"text-align: right;\">\n",
       "      <th></th>\n",
       "      <th>Origin</th>\n",
       "      <th>Destination</th>\n",
       "      <th>Seg1Date</th>\n",
       "      <th>date2</th>\n",
       "      <th>brd_port</th>\n",
       "      <th>off_port</th>\n",
       "      <th>date</th>\n",
       "      <th>match</th>\n",
       "    </tr>\n",
       "  </thead>\n",
       "  <tbody>\n",
       "    <tr>\n",
       "      <th>0</th>\n",
       "      <td>TXL</td>\n",
       "      <td>AUH</td>\n",
       "      <td>2013-01-26</td>\n",
       "      <td>2013-01-26</td>\n",
       "      <td>NaN</td>\n",
       "      <td>NaN</td>\n",
       "      <td>NaT</td>\n",
       "      <td>False</td>\n",
       "    </tr>\n",
       "    <tr>\n",
       "      <th>1</th>\n",
       "      <td>ATH</td>\n",
       "      <td>MIL</td>\n",
       "      <td>2013-01-04</td>\n",
       "      <td>2013-01-04</td>\n",
       "      <td>NaN</td>\n",
       "      <td>NaN</td>\n",
       "      <td>NaT</td>\n",
       "      <td>False</td>\n",
       "    </tr>\n",
       "    <tr>\n",
       "      <th>2</th>\n",
       "      <td>ICT</td>\n",
       "      <td>SFO</td>\n",
       "      <td>2013-08-02</td>\n",
       "      <td>2013-08-02</td>\n",
       "      <td>NaN</td>\n",
       "      <td>NaN</td>\n",
       "      <td>NaT</td>\n",
       "      <td>False</td>\n",
       "    </tr>\n",
       "    <tr>\n",
       "      <th>3</th>\n",
       "      <td>RNB</td>\n",
       "      <td>ARN</td>\n",
       "      <td>2013-01-02</td>\n",
       "      <td>2013-01-02</td>\n",
       "      <td>NaN</td>\n",
       "      <td>NaN</td>\n",
       "      <td>NaT</td>\n",
       "      <td>False</td>\n",
       "    </tr>\n",
       "    <tr>\n",
       "      <th>4</th>\n",
       "      <td>OSL</td>\n",
       "      <td>MAD</td>\n",
       "      <td>2013-03-22</td>\n",
       "      <td>2013-03-22</td>\n",
       "      <td>NaN</td>\n",
       "      <td>NaN</td>\n",
       "      <td>NaT</td>\n",
       "      <td>False</td>\n",
       "    </tr>\n",
       "  </tbody>\n",
       "</table>\n",
       "</div>"
      ],
      "text/plain": [
       "  Origin Destination   Seg1Date       date2 brd_port off_port date  match\n",
       "0    TXL         AUH 2013-01-26  2013-01-26      NaN      NaN  NaT  False\n",
       "1    ATH         MIL 2013-01-04  2013-01-04      NaN      NaN  NaT  False\n",
       "2    ICT         SFO 2013-08-02  2013-08-02      NaN      NaN  NaT  False\n",
       "3    RNB         ARN 2013-01-02  2013-01-02      NaN      NaN  NaT  False\n",
       "4    OSL         MAD 2013-03-22  2013-03-22      NaN      NaN  NaT  False"
      ]
     },
     "execution_count": 87,
     "metadata": {},
     "output_type": "execute_result"
    }
   ],
   "source": [
    "join.head()"
   ]
  },
  {
   "cell_type": "code",
   "execution_count": 89,
   "metadata": {
    "collapsed": false
   },
   "outputs": [
    {
     "data": {
      "text/html": [
       "<div>\n",
       "<table border=\"1\" class=\"dataframe\">\n",
       "  <thead>\n",
       "    <tr style=\"text-align: right;\">\n",
       "      <th></th>\n",
       "      <th>Origin</th>\n",
       "      <th>Destination</th>\n",
       "      <th>Seg1Date</th>\n",
       "      <th>date2</th>\n",
       "      <th>brd_port</th>\n",
       "      <th>off_port</th>\n",
       "      <th>date</th>\n",
       "    </tr>\n",
       "    <tr>\n",
       "      <th>match</th>\n",
       "      <th></th>\n",
       "      <th></th>\n",
       "      <th></th>\n",
       "      <th></th>\n",
       "      <th></th>\n",
       "      <th></th>\n",
       "      <th></th>\n",
       "    </tr>\n",
       "  </thead>\n",
       "  <tbody>\n",
       "    <tr>\n",
       "      <th>False</th>\n",
       "      <td>100000</td>\n",
       "      <td>100000</td>\n",
       "      <td>99605</td>\n",
       "      <td>100000</td>\n",
       "      <td>0</td>\n",
       "      <td>0</td>\n",
       "      <td>0</td>\n",
       "    </tr>\n",
       "  </tbody>\n",
       "</table>\n",
       "</div>"
      ],
      "text/plain": [
       "       Origin  Destination  Seg1Date   date2  brd_port  off_port  date\n",
       "match                                                                 \n",
       "False  100000       100000     99605  100000         0         0     0"
      ]
     },
     "execution_count": 89,
     "metadata": {},
     "output_type": "execute_result"
    }
   ],
   "source": [
    "join.groupby(\"match\").count()"
   ]
  },
  {
   "cell_type": "code",
   "execution_count": null,
   "metadata": {
    "collapsed": true
   },
   "outputs": [],
   "source": [
    "# Hay nulos en la columna Seg1Date. Podríamos quitarlos al crear s, añadiendo \n",
    "# s.dropna(),\n",
    "# b.dropna()\n",
    "\n",
    "# Hay espacios en los nombres de los aeropuertos, habría que quitarlos"
   ]
  }
 ],
 "metadata": {
  "kernelspec": {
   "display_name": "Python 2",
   "language": "python",
   "name": "python2"
  },
  "language_info": {
   "codemirror_mode": {
    "name": "ipython",
    "version": 2
   },
   "file_extension": ".py",
   "mimetype": "text/x-python",
   "name": "python",
   "nbconvert_exporter": "python",
   "pygments_lexer": "ipython2",
   "version": "2.7.10"
  }
 },
 "nbformat": 4,
 "nbformat_minor": 0
}
